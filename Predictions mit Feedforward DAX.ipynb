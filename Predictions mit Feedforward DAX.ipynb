{
 "cells": [
  {
   "cell_type": "markdown",
   "id": "5c717699",
   "metadata": {},
   "source": [
    "## Predictions with the Feedforward Neural Network"
   ]
  },
  {
   "cell_type": "markdown",
   "id": "40049f95",
   "metadata": {},
   "source": [
    "**Nils Marthiensen - MatNr.: 17203238 - 7. Semester CME**"
   ]
  },
  {
   "cell_type": "markdown",
   "id": "02a80b81",
   "metadata": {},
   "source": [
    "Importing the necessary libraries"
   ]
  },
  {
   "cell_type": "code",
   "execution_count": 1,
   "id": "a5da10f6",
   "metadata": {},
   "outputs": [],
   "source": [
    "import keras\n",
    "import itertools\n",
    "import pandas as pd\n",
    "import numpy as np\n",
    "import matplotlib.pyplot as plt\n",
    "from sklearn.model_selection import train_test_split\n",
    "from sklearn.preprocessing import OneHotEncoder\n",
    "from sklearn.preprocessing import MinMaxScaler\n",
    "from sklearn.metrics import accuracy_score\n",
    "from sklearn.metrics import confusion_matrix\n",
    "from tensorflow.compat.v1 import ConfigProto\n",
    "from tensorflow.compat.v1 import InteractiveSession\n",
    "from tensorflow.keras.models import load_model\n",
    "from keras.models import Sequential\n",
    "from keras.layers import Dense"
   ]
  },
  {
   "cell_type": "markdown",
   "id": "31dffb84",
   "metadata": {},
   "source": [
    "Importing the model"
   ]
  },
  {
   "cell_type": "code",
   "execution_count": 2,
   "id": "ab054c8a",
   "metadata": {},
   "outputs": [],
   "source": [
    "ANN = load_model('models/dax_pred_model_3')"
   ]
  },
  {
   "cell_type": "code",
   "execution_count": 3,
   "id": "e4e01e3d",
   "metadata": {},
   "outputs": [
    {
     "name": "stdout",
     "output_type": "stream",
     "text": [
      "Model: \"sequential\"\n",
      "_________________________________________________________________\n",
      "Layer (type)                 Output Shape              Param #   \n",
      "=================================================================\n",
      "dense (Dense)                (None, 16)                144       \n",
      "_________________________________________________________________\n",
      "dense_1 (Dense)              (None, 32)                544       \n",
      "_________________________________________________________________\n",
      "dense_2 (Dense)              (None, 2)                 66        \n",
      "=================================================================\n",
      "Total params: 754\n",
      "Trainable params: 754\n",
      "Non-trainable params: 0\n",
      "_________________________________________________________________\n"
     ]
    }
   ],
   "source": [
    "ANN.summary()"
   ]
  },
  {
   "cell_type": "markdown",
   "id": "620151bf",
   "metadata": {},
   "source": [
    "Importing the new data set"
   ]
  },
  {
   "cell_type": "code",
   "execution_count": 3,
   "id": "2dfe59a9",
   "metadata": {},
   "outputs": [],
   "source": [
    "df = pd.read_csv('HistoricDAXValuesUVneuR.csv', low_memory=False, delimiter=';', encoding='latin1')"
   ]
  },
  {
   "cell_type": "markdown",
   "id": "1f64b9be",
   "metadata": {},
   "source": [
    "Preparing the data"
   ]
  },
  {
   "cell_type": "code",
   "execution_count": 4,
   "id": "2aed8081",
   "metadata": {},
   "outputs": [],
   "source": [
    "df = df.drop(columns = {'Datum'})\n",
    "df = df.drop(columns = {'Rechnung'})\n",
    "df = df.drop(columns = {'ï»¿Datum-1'})"
   ]
  },
  {
   "cell_type": "code",
   "execution_count": 5,
   "id": "c6a338c8",
   "metadata": {},
   "outputs": [],
   "source": [
    "df['Schluss'] = df['Schluss'].str.replace('.', '').str.replace(',', '.')\n",
    "df['ErÃ¶ffnung'] = df['ErÃ¶ffnung'].str.replace('.', '').str.replace(',', '.')\n",
    "df['Tageshoch'] = df['Tageshoch'].str.replace('.', '').str.replace(',', '.')\n",
    "df['Tagestief'] = df['Tagestief'].str.replace('.', '').str.replace(',', '.')\n",
    "df['Schluss-1'] = df['Schluss-1'].str.replace('.', '').str.replace(',', '.')\n",
    "df['ErÃ¶ffnung-1'] = df['ErÃ¶ffnung-1'].str.replace('.', '').str.replace(',', '.')\n",
    "df['Tageshoch-1'] = df['Tageshoch-1'].str.replace('.', '').str.replace(',', '.')\n",
    "df['Tagestief-1'] = df['Tagestief-1'].str.replace('.', '').str.replace(',', '.')"
   ]
  },
  {
   "cell_type": "code",
   "execution_count": 6,
   "id": "cdb51307",
   "metadata": {},
   "outputs": [],
   "source": [
    "df = df.dropna(axis='rows', how='any')"
   ]
  },
  {
   "cell_type": "code",
   "execution_count": 7,
   "id": "70f2629a",
   "metadata": {},
   "outputs": [],
   "source": [
    "df['Schluss-1']= df['Schluss-1'].astype(str).astype(float)\n",
    "df['ErÃ¶ffnung-1']= df['ErÃ¶ffnung-1'].astype(str).astype(float)\n",
    "df['Tageshoch-1']= df['Tageshoch-1'].astype(str).astype(float)\n",
    "df['Tagestief-1']= df['Tagestief-1'].astype(str).astype(float)\n",
    "df['Schluss']= df['Schluss'].astype(str).astype(float)\n",
    "df['ErÃ¶ffnung']= df['ErÃ¶ffnung'].astype(str).astype(float)\n",
    "df['Tageshoch']= df['Tageshoch'].astype(str).astype(float)\n",
    "df['Tagestief']= df['Tagestief'].astype(str).astype(float)\n",
    "df['Ergebnis']= df['Ergebnis'].astype(str).astype(float)"
   ]
  },
  {
   "cell_type": "markdown",
   "id": "304bc449",
   "metadata": {},
   "source": [
    "Splitting the data in X and y for classes and labels"
   ]
  },
  {
   "cell_type": "code",
   "execution_count": 8,
   "id": "3bda8b2e",
   "metadata": {},
   "outputs": [],
   "source": [
    "df = df[['Schluss-1', 'ErÃ¶ffnung-1', 'Tageshoch-1', 'Tagestief-1', 'Schluss','ErÃ¶ffnung','Tageshoch','Tagestief','Ergebnis']]\n",
    "X = df.iloc[:, :-1].values\n",
    "y = df.iloc[:, -1].values"
   ]
  },
  {
   "cell_type": "markdown",
   "id": "0dd31cda",
   "metadata": {},
   "source": [
    "Again some more preparation"
   ]
  },
  {
   "cell_type": "code",
   "execution_count": 9,
   "id": "f969c59f",
   "metadata": {},
   "outputs": [],
   "source": [
    "X = np.array(X)\n",
    "y = np.array(y)"
   ]
  },
  {
   "cell_type": "code",
   "execution_count": 10,
   "id": "1b00a407",
   "metadata": {},
   "outputs": [],
   "source": [
    "scaler = MinMaxScaler(feature_range=(0,1))\n",
    "scaled_X = scaler.fit_transform(X)"
   ]
  },
  {
   "cell_type": "code",
   "execution_count": 11,
   "id": "34d578c4",
   "metadata": {},
   "outputs": [],
   "source": [
    "y = y.reshape((-1,1))"
   ]
  },
  {
   "cell_type": "markdown",
   "id": "0ae1c8a8",
   "metadata": {},
   "source": [
    "Letting the model make actual predictions"
   ]
  },
  {
   "cell_type": "code",
   "execution_count": 12,
   "id": "47177d02",
   "metadata": {},
   "outputs": [],
   "source": [
    "predictions = ANN.predict(scaled_X, batch_size=20, verbose=0)"
   ]
  },
  {
   "cell_type": "code",
   "execution_count": 13,
   "id": "16ace25d",
   "metadata": {},
   "outputs": [
    {
     "name": "stdout",
     "output_type": "stream",
     "text": [
      "[0.6330588  0.36694124]\n",
      "[0.63560814 0.36439186]\n",
      "[0.6277326  0.37226745]\n",
      "[0.62726736 0.3727327 ]\n",
      "[0.6242583 0.3757417]\n",
      "[0.6376044  0.36239564]\n",
      "[0.5685942  0.43140578]\n",
      "[0.55109876 0.4489012 ]\n",
      "[0.53094345 0.46905652]\n",
      "[0.49194756 0.5080524 ]\n",
      "[0.47253397 0.527466  ]\n",
      "[0.422357   0.57764304]\n",
      "[0.46954966 0.53045034]\n",
      "[0.44556838 0.5544316 ]\n",
      "[0.471578   0.52842206]\n",
      "[0.48353407 0.5164659 ]\n",
      "[0.4394934 0.5605066]\n",
      "[0.42130002 0.57869995]\n",
      "[0.41797823 0.5820218 ]\n",
      "[0.42168114 0.57831883]\n",
      "[0.4235706  0.57642937]\n",
      "[0.42838132 0.5716187 ]\n",
      "[0.37700045 0.62299955]\n",
      "[0.05401483 0.9459852 ]\n",
      "[0.00548884 0.9945111 ]\n",
      "[0.42238393 0.5776161 ]\n",
      "[0.44734988 0.5526501 ]\n",
      "[0.34454492 0.6554551 ]\n",
      "[0.4009555 0.5990445]\n",
      "[0.03148576 0.96851426]\n",
      "[0.08017855 0.91982144]\n",
      "[0.5010722  0.49892774]\n",
      "[0.35197434 0.6480257 ]\n",
      "[0.4728077 0.5271923]\n",
      "[0.33244348 0.6675565 ]\n",
      "[0.43756583 0.5624342 ]\n",
      "[0.44078732 0.5592127 ]\n",
      "[0.45082307 0.549177  ]\n",
      "[0.5012289  0.49877116]\n",
      "[0.41123012 0.5887699 ]\n",
      "[0.44163808 0.55836195]\n",
      "[0.45872235 0.5412777 ]\n",
      "[0.5123736  0.48762634]\n",
      "[0.47800732 0.5219927 ]\n",
      "[0.51029587 0.48970407]\n",
      "[0.48483455 0.5151655 ]\n",
      "[0.42578194 0.57421803]\n",
      "[0.13581511 0.86418486]\n",
      "[0.04638507 0.9536149 ]\n",
      "[0.09018414 0.9098159 ]\n",
      "[0.04390908 0.9560909 ]\n",
      "[0.19404502 0.80595505]\n",
      "[0.39447615 0.6055239 ]\n",
      "[0.28128722 0.7187128 ]\n",
      "[0.53610635 0.46389368]\n",
      "[0.36416835 0.6358316 ]\n",
      "[0.46960774 0.5303922 ]\n",
      "[0.42725736 0.5727427 ]\n",
      "[0.33619905 0.66380095]\n",
      "[0.25505388 0.7449462 ]\n",
      "[0.3380052 0.6619948]\n",
      "[0.45431107 0.5456889 ]\n",
      "[0.42882505 0.571175  ]\n",
      "[0.47325337 0.5267466 ]\n",
      "[0.4300308  0.56996924]\n",
      "[0.40194112 0.5980589 ]\n",
      "[0.05205783 0.9479422 ]\n",
      "[0.02833386 0.9716662 ]\n",
      "[0.29648307 0.70351696]\n",
      "[0.55187446 0.4481255 ]\n",
      "[0.25084132 0.7491586 ]\n",
      "[0.47405162 0.5259484 ]\n",
      "[0.65311533 0.34688467]\n",
      "[0.4928515  0.50714856]\n",
      "[0.1303893  0.86961067]\n",
      "[0.00549058 0.9945094 ]\n",
      "[0.14523657 0.8547634 ]\n",
      "[0.8608081  0.13919196]\n",
      "[0.6429242 0.3570758]\n",
      "[0.0054891 0.9945109]\n",
      "[0.7260193  0.27398068]\n",
      "[6.0286361e-04 9.9939716e-01]\n",
      "[0.00342384 0.99657613]\n",
      "[0.9901102  0.00988975]\n",
      "[0.06320878 0.9367913 ]\n",
      "[0.00824814 0.99175185]\n",
      "[0.00416919 0.99583083]\n",
      "[0.00882786 0.99117213]\n",
      "[0.00292011 0.9970799 ]\n",
      "[0.1967396 0.8032604]\n",
      "[0.08992419 0.9100758 ]\n",
      "[0.02961333 0.9703866 ]\n",
      "[0.06280749 0.93719256]\n"
     ]
    }
   ],
   "source": [
    "for i in predictions:\n",
    "    print(i)"
   ]
  },
  {
   "cell_type": "code",
   "execution_count": 14,
   "id": "a705e159",
   "metadata": {},
   "outputs": [],
   "source": [
    "rounded_predictions = np.argmax(predictions, axis=-1)"
   ]
  },
  {
   "cell_type": "code",
   "execution_count": 15,
   "id": "8de89941",
   "metadata": {},
   "outputs": [
    {
     "name": "stdout",
     "output_type": "stream",
     "text": [
      "0\n",
      "0\n",
      "0\n",
      "0\n",
      "0\n",
      "0\n",
      "0\n",
      "0\n",
      "0\n",
      "1\n",
      "1\n",
      "1\n",
      "1\n",
      "1\n",
      "1\n",
      "1\n",
      "1\n",
      "1\n",
      "1\n",
      "1\n",
      "1\n",
      "1\n",
      "1\n",
      "1\n",
      "1\n",
      "1\n",
      "1\n",
      "1\n",
      "1\n",
      "1\n",
      "1\n",
      "0\n",
      "1\n",
      "1\n",
      "1\n",
      "1\n",
      "1\n",
      "1\n",
      "0\n",
      "1\n",
      "1\n",
      "1\n",
      "0\n",
      "1\n",
      "0\n",
      "1\n",
      "1\n",
      "1\n",
      "1\n",
      "1\n",
      "1\n",
      "1\n",
      "1\n",
      "1\n",
      "0\n",
      "1\n",
      "1\n",
      "1\n",
      "1\n",
      "1\n",
      "1\n",
      "1\n",
      "1\n",
      "1\n",
      "1\n",
      "1\n",
      "1\n",
      "1\n",
      "1\n",
      "0\n",
      "1\n",
      "1\n",
      "0\n",
      "1\n",
      "1\n",
      "1\n",
      "1\n",
      "0\n",
      "0\n",
      "1\n",
      "0\n",
      "1\n",
      "1\n",
      "0\n",
      "1\n",
      "1\n",
      "1\n",
      "1\n",
      "1\n",
      "1\n",
      "1\n",
      "1\n",
      "1\n"
     ]
    }
   ],
   "source": [
    "for i in rounded_predictions:\n",
    "    print(i)"
   ]
  },
  {
   "cell_type": "markdown",
   "id": "b6fc3ab3",
   "metadata": {},
   "source": [
    "Accuracy of the predictions"
   ]
  },
  {
   "cell_type": "code",
   "execution_count": 16,
   "id": "e38f55e2",
   "metadata": {},
   "outputs": [
    {
     "data": {
      "text/plain": [
       "0.5913978494623656"
      ]
     },
     "execution_count": 16,
     "metadata": {},
     "output_type": "execute_result"
    }
   ],
   "source": [
    "accuracy_score(y_true=y, y_pred=rounded_predictions)"
   ]
  },
  {
   "cell_type": "markdown",
   "id": "e845cd90",
   "metadata": {},
   "source": [
    "Visualizing the results in a confusion matrix"
   ]
  },
  {
   "cell_type": "code",
   "execution_count": 17,
   "id": "270dacb5",
   "metadata": {},
   "outputs": [],
   "source": [
    "%matplotlib inline"
   ]
  },
  {
   "cell_type": "code",
   "execution_count": 18,
   "id": "071777ff",
   "metadata": {},
   "outputs": [],
   "source": [
    "cm = confusion_matrix(y_true=y, y_pred=rounded_predictions)"
   ]
  },
  {
   "cell_type": "code",
   "execution_count": 19,
   "id": "14c0ca84",
   "metadata": {},
   "outputs": [],
   "source": [
    "def plot_confusion_matrix(cm, classes, normalize=False, title='Confusion Matrix', cmap=plt.cm.Blues):\n",
    "    plt.imshow(cm, interpolation='nearest', cmap=cmap)\n",
    "    plt.title(title)\n",
    "    plt.colorbar()\n",
    "    tick_marks = np.arange(len(classes))\n",
    "    plt. xticks(tick_marks, classes, rotation=45)\n",
    "    plt.yticks(tick_marks, classes)\n",
    "    \n",
    "    if normalize:\n",
    "        cm = cm.astype('float') / cm.sum(axis=1)[:, np.newaxis]\n",
    "        print(\"Normalized confusion matrix\")\n",
    "    else:\n",
    "        print('Confusion matrix, without normalization')\n",
    "        \n",
    "    print(cm)\n",
    "    \n",
    "    thresh = cm.max() / 2.\n",
    "    for i, j in itertools.product(range(cm.shape[0]), range(cm.shape[1])):\n",
    "        plt.text(j, i, cm[i, j],\n",
    "                 horizontalalignment=\"center\",\n",
    "                 color=\"white\" if cm[i, j] > thresh else \"black\")\n",
    "    \n",
    "    plt.tight_layout()\n",
    "    plt.ylabel('True label')\n",
    "    plt.xlabel('Predicted label')"
   ]
  },
  {
   "cell_type": "code",
   "execution_count": 20,
   "id": "5fe32174",
   "metadata": {},
   "outputs": [
    {
     "name": "stdout",
     "output_type": "stream",
     "text": [
      "Confusion matrix, without normalization\n",
      "[[11 29]\n",
      " [ 9 44]]\n"
     ]
    },
    {
     "data": {
      "image/png": "[encoded data removed]",
      "text/plain": [
       "<Figure size 432x288 with 2 Axes>"
      ]
     },
     "metadata": {
      "needs_background": "light"
     },
     "output_type": "display_data"
    }
   ],
   "source": [
    "cm_plot_labels = ['DAX falling','DAX rising']\n",
    "plot_confusion_matrix(cm=cm, classes=cm_plot_labels, title='Confusion Matrix')"
   ]
  }
 ],
 "metadata": {
  "kernelspec": {
   "display_name": "Python 3",
   "language": "python",
   "name": "python3"
  },
  "language_info": {
   "codemirror_mode": {
    "name": "ipython",
    "version": 3
   },
   "file_extension": ".py",
   "mimetype": "text/x-python",
   "name": "python",
   "nbconvert_exporter": "python",
   "pygments_lexer": "ipython3",
   "version": "3.8.3"
  }
 },
 "nbformat": 4,
 "nbformat_minor": 5
}
