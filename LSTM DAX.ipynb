{
 "cells": [
  {
   "cell_type": "markdown",
   "id": "086b2a07",
   "metadata": {},
   "source": [
    "## Predicting DAX Course using LSTM Neural Network"
   ]
  },
  {
   "cell_type": "markdown",
   "id": "7b1b4d75",
   "metadata": {},
   "source": [
    "**Nils Marthiensen - MatNr.: 17203238 - 7. Semester CME**"
   ]
  },
  {
   "cell_type": "markdown",
   "id": "740d3179",
   "metadata": {},
   "source": [
    "Importing the necessary libraries"
   ]
  },
  {
   "cell_type": "code",
   "execution_count": 1,
   "id": "eb3b38bc",
   "metadata": {},
   "outputs": [],
   "source": [
    "import pandas as pd\n",
    "import numpy as np\n",
    "import matplotlib.pyplot as plt\n",
    "plt.style.use('fivethirtyeight')\n",
    "from sklearn.preprocessing import MinMaxScaler\n",
    "from keras.models import Sequential\n",
    "from keras.layers import LSTM\n",
    "from keras.layers import Dropout\n",
    "from keras.layers import Dense"
   ]
  },
  {
   "cell_type": "markdown",
   "id": "46dadc91",
   "metadata": {},
   "source": [
    "Importing the training data set"
   ]
  },
  {
   "cell_type": "code",
   "execution_count": 2,
   "id": "eaba0006",
   "metadata": {},
   "outputs": [],
   "source": [
    "HistoricDAXValues = pd.read_csv('HistoricDAXValues.csv', low_memory=False, delimiter=';')"
   ]
  },
  {
   "cell_type": "markdown",
   "id": "44d72ffd",
   "metadata": {},
   "source": [
    "Preparing the data"
   ]
  },
  {
   "cell_type": "code",
   "execution_count": 3,
   "id": "283217bf",
   "metadata": {},
   "outputs": [],
   "source": [
    "HistoricDAXValues = HistoricDAXValues.drop(columns = {'Datum'})\n",
    "HistoricDAXValues = HistoricDAXValues.drop(columns = {'Rechnung'})\n",
    "HistoricDAXValues = HistoricDAXValues.drop(columns = {'Ergebnis'})"
   ]
  },
  {
   "cell_type": "code",
   "execution_count": 4,
   "id": "3723c0ec",
   "metadata": {},
   "outputs": [],
   "source": [
    "HistoricDAXValues['Schluss'] = HistoricDAXValues['Schluss'].str.replace('.', '').str.replace(',', '.')\n",
    "HistoricDAXValues['Eröffnung'] = HistoricDAXValues['Eröffnung'].str.replace('.', '').str.replace(',', '.')\n",
    "HistoricDAXValues['Tageshoch'] = HistoricDAXValues['Tageshoch'].str.replace('.', '').str.replace(',', '.')\n",
    "HistoricDAXValues['Tagestief'] = HistoricDAXValues['Tagestief'].str.replace('.', '').str.replace(',', '.')"
   ]
  },
  {
   "cell_type": "code",
   "execution_count": 5,
   "id": "f5262b28",
   "metadata": {},
   "outputs": [],
   "source": [
    "HistoricDAXValues = HistoricDAXValues.dropna(axis='rows', how='any')"
   ]
  },
  {
   "cell_type": "code",
   "execution_count": 6,
   "id": "1e63930d",
   "metadata": {},
   "outputs": [],
   "source": [
    "HistoricDAXValues['Schluss']= HistoricDAXValues['Schluss'].astype(str).astype(float)\n",
    "HistoricDAXValues['Eröffnung']= HistoricDAXValues['Eröffnung'].astype(str).astype(float)\n",
    "HistoricDAXValues['Tageshoch']= HistoricDAXValues['Tageshoch'].astype(str).astype(float)\n",
    "HistoricDAXValues['Tagestief']= HistoricDAXValues['Tagestief'].astype(str).astype(float)"
   ]
  },
  {
   "cell_type": "code",
   "execution_count": 7,
   "id": "f374d7ad",
   "metadata": {},
   "outputs": [],
   "source": [
    "HistoricDAXValues = HistoricDAXValues[['Schluss','Eröffnung','Tageshoch','Tagestief']]\n",
    "X = HistoricDAXValues.iloc[:, 0:1].values"
   ]
  },
  {
   "cell_type": "code",
   "execution_count": 8,
   "id": "ca76cdfb",
   "metadata": {},
   "outputs": [],
   "source": [
    "sc = MinMaxScaler(feature_range=(0,1))\n",
    "training_set_scaled = sc.fit_transform(X)"
   ]
  },
  {
   "cell_type": "code",
   "execution_count": 9,
   "id": "a7a79cb3",
   "metadata": {},
   "outputs": [],
   "source": [
    "X_train = []\n",
    "y_train = []\n",
    "for i in range(60, 1262):\n",
    "    X_train.append(training_set_scaled[i-60:i, 0])\n",
    "    y_train.append(training_set_scaled[i, 0])"
   ]
  },
  {
   "cell_type": "code",
   "execution_count": 10,
   "id": "8c6a4487",
   "metadata": {},
   "outputs": [],
   "source": [
    "X_train, y_train = np.array(X_train), np.array(y_train)"
   ]
  },
  {
   "cell_type": "code",
   "execution_count": 11,
   "id": "0637bc09",
   "metadata": {},
   "outputs": [],
   "source": [
    "X_train = np.reshape(X_train, (X_train.shape[0], X_train.shape[1], 1))"
   ]
  },
  {
   "cell_type": "markdown",
   "id": "17ea2ac1",
   "metadata": {},
   "source": [
    "Building the model"
   ]
  },
  {
   "cell_type": "code",
   "execution_count": 12,
   "id": "fa146684",
   "metadata": {},
   "outputs": [],
   "source": [
    "model = Sequential()\n",
    "\n",
    "model.add(LSTM(units=50,return_sequences=True,input_shape=(X_train.shape[1], 1)))\n",
    "model.add(Dropout(0.2))\n",
    "\n",
    "model.add(LSTM(units=50,return_sequences=True))\n",
    "model.add(Dropout(0.2))\n",
    "\n",
    "model.add(LSTM(units=50,return_sequences=True))\n",
    "model.add(Dropout(0.2))\n",
    "\n",
    "model.add(LSTM(units=50))\n",
    "model.add(Dropout(0.2))\n",
    "\n",
    "model.add(Dense(units=1))"
   ]
  },
  {
   "cell_type": "markdown",
   "id": "11a70b06",
   "metadata": {},
   "source": [
    "Setting the parameters for training"
   ]
  },
  {
   "cell_type": "code",
   "execution_count": 13,
   "id": "c43e2b9f",
   "metadata": {},
   "outputs": [],
   "source": [
    "model.compile(optimizer='adam',loss='mean_squared_error')"
   ]
  },
  {
   "cell_type": "markdown",
   "id": "0bc7d0ea",
   "metadata": {},
   "source": [
    "Actual training of the model"
   ]
  },
  {
   "cell_type": "code",
   "execution_count": 14,
   "id": "d2abd3e9",
   "metadata": {},
   "outputs": [
    {
     "name": "stdout",
     "output_type": "stream",
     "text": [
      "Epoch 1/100\n",
      "38/38 [==============================] - 4s 94ms/step - loss: 0.0564\n",
      "Epoch 2/100\n",
      "38/38 [==============================] - 4s 93ms/step - loss: 0.0170\n",
      "Epoch 3/100\n",
      "38/38 [==============================] - 4s 93ms/step - loss: 0.0131: 0s - loss: 0\n",
      "Epoch 4/100\n",
      "38/38 [==============================] - 4s 101ms/step - loss: 0.0127\n",
      "Epoch 5/100\n",
      "38/38 [==============================] - 4s 117ms/step - loss: 0.0107\n",
      "Epoch 6/100\n",
      "38/38 [==============================] - 4s 108ms/step - loss: 0.0111\n",
      "Epoch 7/100\n",
      "38/38 [==============================] - 4s 97ms/step - loss: 0.0101\n",
      "Epoch 8/100\n",
      "38/38 [==============================] - 3s 87ms/step - loss: 0.0093\n",
      "Epoch 9/100\n",
      "38/38 [==============================] - 5s 140ms/step - loss: 0.0094\n",
      "Epoch 10/100\n",
      "38/38 [==============================] - 7s 175ms/step - loss: 0.0080\n",
      "Epoch 11/100\n",
      "38/38 [==============================] - 5s 136ms/step - loss: 0.0085\n",
      "Epoch 12/100\n",
      "38/38 [==============================] - 6s 170ms/step - loss: 0.0077 2s -\n",
      "Epoch 13/100\n",
      "38/38 [==============================] - 4s 115ms/step - loss: 0.0076\n",
      "Epoch 14/100\n",
      "38/38 [==============================] - 5s 128ms/step - loss: 0.0076\n",
      "Epoch 15/100\n",
      "38/38 [==============================] - 6s 151ms/step - loss: 0.0070\n",
      "Epoch 16/100\n",
      "38/38 [==============================] - 6s 153ms/step - loss: 0.0068 1s - los\n",
      "Epoch 17/100\n",
      "38/38 [==============================] - 6s 149ms/step - loss: 0.0062\n",
      "Epoch 18/100\n",
      "38/38 [==============================] - 5s 124ms/step - loss: 0.0067\n",
      "Epoch 19/100\n",
      "38/38 [==============================] - 4s 115ms/step - loss: 0.0067\n",
      "Epoch 20/100\n",
      "38/38 [==============================] - 4s 114ms/step - loss: 0.0058\n",
      "Epoch 21/100\n",
      "38/38 [==============================] - 5s 120ms/step - loss: 0.0060\n",
      "Epoch 22/100\n",
      "38/38 [==============================] - 5s 120ms/step - loss: 0.0060\n",
      "Epoch 23/100\n",
      "38/38 [==============================] - 4s 111ms/step - loss: 0.0062\n",
      "Epoch 24/100\n",
      "38/38 [==============================] - 4s 115ms/step - loss: 0.0055\n",
      "Epoch 25/100\n",
      "38/38 [==============================] - 4s 117ms/step - loss: 0.0055\n",
      "Epoch 26/100\n",
      "38/38 [==============================] - 4s 117ms/step - loss: 0.0052\n",
      "Epoch 27/100\n",
      "38/38 [==============================] - 7s 175ms/step - loss: 0.0054\n",
      "Epoch 28/100\n",
      "38/38 [==============================] - 5s 132ms/step - loss: 0.0057\n",
      "Epoch 29/100\n",
      "38/38 [==============================] - 6s 155ms/step - loss: 0.0061\n",
      "Epoch 30/100\n",
      "38/38 [==============================] - 6s 157ms/step - loss: 0.0050\n",
      "Epoch 31/100\n",
      "38/38 [==============================] - 6s 146ms/step - loss: 0.0049\n",
      "Epoch 32/100\n",
      "38/38 [==============================] - 5s 140ms/step - loss: 0.0047\n",
      "Epoch 33/100\n",
      "38/38 [==============================] - 6s 165ms/step - loss: 0.0046\n",
      "Epoch 34/100\n",
      "38/38 [==============================] - 5s 129ms/step - loss: 0.0042 0s - loss: \n",
      "Epoch 35/100\n",
      "38/38 [==============================] - 5s 120ms/step - loss: 0.0045\n",
      "Epoch 36/100\n",
      "38/38 [==============================] - 5s 137ms/step - loss: 0.0042\n",
      "Epoch 37/100\n",
      "38/38 [==============================] - 6s 151ms/step - loss: 0.0044\n",
      "Epoch 38/100\n",
      "38/38 [==============================] - 5s 128ms/step - loss: 0.0043\n",
      "Epoch 39/100\n",
      "38/38 [==============================] - 5s 133ms/step - loss: 0.0043\n",
      "Epoch 40/100\n",
      "38/38 [==============================] - 5s 143ms/step - loss: 0.0041\n",
      "Epoch 41/100\n",
      "38/38 [==============================] - 5s 133ms/step - loss: 0.0038\n",
      "Epoch 42/100\n",
      "38/38 [==============================] - 5s 139ms/step - loss: 0.0039\n",
      "Epoch 43/100\n",
      "38/38 [==============================] - 5s 131ms/step - loss: 0.0038\n",
      "Epoch 44/100\n",
      "38/38 [==============================] - 5s 141ms/step - loss: 0.0036\n",
      "Epoch 45/100\n",
      "38/38 [==============================] - 4s 118ms/step - loss: 0.0036\n",
      "Epoch 46/100\n",
      "38/38 [==============================] - 5s 119ms/step - loss: 0.0035\n",
      "Epoch 47/100\n",
      "38/38 [==============================] - 4s 117ms/step - loss: 0.0035\n",
      "Epoch 48/100\n",
      "38/38 [==============================] - 5s 142ms/step - loss: 0.0039\n",
      "Epoch 49/100\n",
      "38/38 [==============================] - 6s 158ms/step - loss: 0.0035\n",
      "Epoch 50/100\n",
      "38/38 [==============================] - 6s 151ms/step - loss: 0.0035\n",
      "Epoch 51/100\n",
      "38/38 [==============================] - 4s 117ms/step - loss: 0.0032\n",
      "Epoch 52/100\n",
      "38/38 [==============================] - 5s 133ms/step - loss: 0.0032\n",
      "Epoch 53/100\n",
      "38/38 [==============================] - 4s 112ms/step - loss: 0.0031\n",
      "Epoch 54/100\n",
      "38/38 [==============================] - 4s 112ms/step - loss: 0.0031\n",
      "Epoch 55/100\n",
      "38/38 [==============================] - 5s 121ms/step - loss: 0.0032\n",
      "Epoch 56/100\n",
      "38/38 [==============================] - 4s 117ms/step - loss: 0.0032\n",
      "Epoch 57/100\n",
      "38/38 [==============================] - 4s 109ms/step - loss: 0.0031\n",
      "Epoch 58/100\n",
      "38/38 [==============================] - 4s 115ms/step - loss: 0.0027\n",
      "Epoch 59/100\n",
      "38/38 [==============================] - 4s 115ms/step - loss: 0.0032\n",
      "Epoch 60/100\n",
      "38/38 [==============================] - 4s 114ms/step - loss: 0.0029\n",
      "Epoch 61/100\n",
      "38/38 [==============================] - 5s 128ms/step - loss: 0.0027\n",
      "Epoch 62/100\n",
      "38/38 [==============================] - 5s 132ms/step - loss: 0.0030\n",
      "Epoch 63/100\n",
      "38/38 [==============================] - 5s 131ms/step - loss: 0.0028\n",
      "Epoch 64/100\n",
      "38/38 [==============================] - 5s 137ms/step - loss: 0.0029\n",
      "Epoch 65/100\n",
      "38/38 [==============================] - 5s 120ms/step - loss: 0.0028\n",
      "Epoch 66/100\n",
      "38/38 [==============================] - 5s 126ms/step - loss: 0.0030\n",
      "Epoch 67/100\n",
      "38/38 [==============================] - 4s 118ms/step - loss: 0.0028\n",
      "Epoch 68/100\n",
      "38/38 [==============================] - 4s 118ms/step - loss: 0.0026\n",
      "Epoch 69/100\n",
      "38/38 [==============================] - 4s 99ms/step - loss: 0.0026\n",
      "Epoch 70/100\n",
      "38/38 [==============================] - 4s 103ms/step - loss: 0.0028\n",
      "Epoch 71/100\n",
      "38/38 [==============================] - 5s 121ms/step - loss: 0.0026\n",
      "Epoch 72/100\n",
      "38/38 [==============================] - 4s 103ms/step - loss: 0.0024\n",
      "Epoch 73/100\n",
      "38/38 [==============================] - 4s 112ms/step - loss: 0.0025\n",
      "Epoch 74/100\n",
      "38/38 [==============================] - 4s 105ms/step - loss: 0.0027\n",
      "Epoch 75/100\n",
      "38/38 [==============================] - 4s 99ms/step - loss: 0.0024\n",
      "Epoch 76/100\n",
      "38/38 [==============================] - 4s 116ms/step - loss: 0.0024\n",
      "Epoch 77/100\n",
      "38/38 [==============================] - 4s 105ms/step - loss: 0.0026\n",
      "Epoch 78/100\n",
      "38/38 [==============================] - 3s 92ms/step - loss: 0.0025\n",
      "Epoch 79/100\n",
      "38/38 [==============================] - 4s 100ms/step - loss: 0.0024\n",
      "Epoch 80/100\n",
      "38/38 [==============================] - 4s 99ms/step - loss: 0.0023\n",
      "Epoch 81/100\n",
      "38/38 [==============================] - 4s 102ms/step - loss: 0.0026\n",
      "Epoch 82/100\n",
      "38/38 [==============================] - 4s 100ms/step - loss: 0.0024 0s - loss: 0.00\n",
      "Epoch 83/100\n",
      "38/38 [==============================] - 4s 95ms/step - loss: 0.0022\n",
      "Epoch 84/100\n",
      "38/38 [==============================] - 4s 99ms/step - loss: 0.0022\n",
      "Epoch 85/100\n",
      "38/38 [==============================] - 4s 105ms/step - loss: 0.0022\n",
      "Epoch 86/100\n",
      "38/38 [==============================] - 4s 98ms/step - loss: 0.0021\n",
      "Epoch 87/100\n",
      "38/38 [==============================] - 4s 94ms/step - loss: 0.0022\n",
      "Epoch 88/100\n",
      "38/38 [==============================] - 4s 95ms/step - loss: 0.0025\n",
      "Epoch 89/100\n",
      "38/38 [==============================] - 4s 100ms/step - loss: 0.0021 1s -\n",
      "Epoch 90/100\n",
      "38/38 [==============================] - 4s 102ms/step - loss: 0.0021\n",
      "Epoch 91/100\n",
      "38/38 [==============================] - 3s 92ms/step - loss: 0.0020\n",
      "Epoch 92/100\n",
      "38/38 [==============================] - 4s 94ms/step - loss: 0.0020\n",
      "Epoch 93/100\n",
      "38/38 [==============================] - 4s 94ms/step - loss: 0.0022\n",
      "Epoch 94/100\n",
      "38/38 [==============================] - 3s 91ms/step - loss: 0.0019\n",
      "Epoch 95/100\n",
      "38/38 [==============================] - 3s 91ms/step - loss: 0.0021\n",
      "Epoch 96/100\n",
      "38/38 [==============================] - 4s 94ms/step - loss: 0.0019\n",
      "Epoch 97/100\n",
      "38/38 [==============================] - 4s 98ms/step - loss: 0.0019\n",
      "Epoch 98/100\n",
      "38/38 [==============================] - 4s 96ms/step - loss: 0.0019\n",
      "Epoch 99/100\n",
      "38/38 [==============================] - 4s 105ms/step - loss: 0.0020\n",
      "Epoch 100/100\n",
      "38/38 [==============================] - 4s 102ms/step - loss: 0.0018\n"
     ]
    },
    {
     "data": {
      "text/plain": [
       "<tensorflow.python.keras.callbacks.History at 0x281a6258340>"
      ]
     },
     "execution_count": 14,
     "metadata": {},
     "output_type": "execute_result"
    }
   ],
   "source": [
    "model.fit(X_train,y_train,epochs=100,batch_size=32)"
   ]
  },
  {
   "cell_type": "markdown",
   "id": "0b3ee561",
   "metadata": {},
   "source": [
    "Importing the test data set"
   ]
  },
  {
   "cell_type": "code",
   "execution_count": 15,
   "id": "2008afb0",
   "metadata": {},
   "outputs": [],
   "source": [
    "HistoricDAXValuesNeu = pd.read_csv('HistoricDAXValuesNeu.csv', low_memory=False, delimiter=';')"
   ]
  },
  {
   "cell_type": "markdown",
   "id": "2453fae2",
   "metadata": {},
   "source": [
    "Preparing the data"
   ]
  },
  {
   "cell_type": "code",
   "execution_count": 16,
   "id": "046d7891",
   "metadata": {},
   "outputs": [],
   "source": [
    "HistoricDAXValuesNeu['Schluss'] = HistoricDAXValuesNeu['Schluss'].str.replace('.', '').str.replace(',', '.')\n",
    "HistoricDAXValuesNeu['Eröffnung'] = HistoricDAXValuesNeu['Eröffnung'].str.replace('.', '').str.replace(',', '.')\n",
    "HistoricDAXValuesNeu['Tageshoch'] = HistoricDAXValuesNeu['Tageshoch'].str.replace('.', '').str.replace(',', '.')\n",
    "HistoricDAXValuesNeu['Tagestief'] = HistoricDAXValuesNeu['Tagestief'].str.replace('.', '').str.replace(',', '.')"
   ]
  },
  {
   "cell_type": "code",
   "execution_count": 17,
   "id": "a65981c3",
   "metadata": {},
   "outputs": [],
   "source": [
    "HistoricDAXValuesNeu = HistoricDAXValuesNeu.dropna(axis='rows', how='any')"
   ]
  },
  {
   "cell_type": "code",
   "execution_count": 18,
   "id": "5177296c",
   "metadata": {},
   "outputs": [],
   "source": [
    "HistoricDAXValuesNeu['Schluss']= HistoricDAXValuesNeu['Schluss'].astype(str).astype(float)\n",
    "HistoricDAXValuesNeu['Eröffnung']= HistoricDAXValuesNeu['Eröffnung'].astype(str).astype(float)\n",
    "HistoricDAXValuesNeu['Tageshoch']= HistoricDAXValuesNeu['Tageshoch'].astype(str).astype(float)\n",
    "HistoricDAXValuesNeu['Tagestief']= HistoricDAXValuesNeu['Tagestief'].astype(str).astype(float)"
   ]
  },
  {
   "cell_type": "code",
   "execution_count": 19,
   "id": "87ecc1ac",
   "metadata": {},
   "outputs": [],
   "source": [
    "real_price = HistoricDAXValuesNeu.iloc[:, 1:2].values"
   ]
  },
  {
   "cell_type": "code",
   "execution_count": 20,
   "id": "c5b3f0e5",
   "metadata": {},
   "outputs": [],
   "source": [
    "dataset_total = pd.concat((HistoricDAXValues['Schluss'], HistoricDAXValuesNeu['Schluss']), axis = 0)\n",
    "inputs = dataset_total[len(dataset_total) - len(HistoricDAXValuesNeu) - 60:].values\n",
    "inputs = inputs.reshape(-1,1)\n",
    "inputs = sc.transform(inputs)"
   ]
  },
  {
   "cell_type": "markdown",
   "id": "7e2a1eb8",
   "metadata": {},
   "source": [
    "Making predictions on the new data with our existing model"
   ]
  },
  {
   "cell_type": "code",
   "execution_count": 21,
   "id": "1487f3c3",
   "metadata": {},
   "outputs": [],
   "source": [
    "X_test = []\n",
    "for i in range(60, 157):\n",
    "    X_test.append(inputs[i-60:i, 0])\n",
    "X_test = np.array(X_test)\n",
    "X_test = np.reshape(X_test, (X_test.shape[0], X_test.shape[1], 1))\n",
    "predicted_price = model.predict(X_test)\n",
    "predicted_price = sc.inverse_transform(predicted_price)"
   ]
  },
  {
   "cell_type": "markdown",
   "id": "10996190",
   "metadata": {},
   "source": [
    "Visualizing the results"
   ]
  },
  {
   "cell_type": "code",
   "execution_count": 25,
   "id": "9af552d9",
   "metadata": {},
   "outputs": [
    {
     "data": {
      "image/png": "[encoded data removed]",
      "text/plain": [
       "<Figure size 432x288 with 1 Axes>"
      ]
     },
     "metadata": {},
     "output_type": "display_data"
    }
   ],
   "source": [
    "plt.plot(real_price, color = 'black', label = 'Real DAX course')\n",
    "plt.plot(predicted_price, color = 'green', label = 'Predicted DAX course')\n",
    "plt.title('DAX Course Prediction')\n",
    "plt.xlabel('Time (Days)')\n",
    "plt.ylabel('DAX Course (Points)')\n",
    "plt.gca().invert_xaxis()\n",
    "plt.legend()\n",
    "plt.show()"
   ]
  },
  {
   "cell_type": "markdown",
   "id": "4866987d",
   "metadata": {},
   "source": [
    "Saving the model"
   ]
  },
  {
   "cell_type": "code",
   "execution_count": 23,
   "id": "1bf39588",
   "metadata": {},
   "outputs": [
    {
     "name": "stdout",
     "output_type": "stream",
     "text": [
      "WARNING:tensorflow:From C:\\Users\\nmart\\anaconda3\\lib\\site-packages\\tensorflow\\python\\training\\tracking\\tracking.py:111: Model.state_updates (from tensorflow.python.keras.engine.training) is deprecated and will be removed in a future version.\n",
      "Instructions for updating:\n",
      "This property should not be used in TensorFlow 2.0, as updates are applied automatically.\n",
      "WARNING:tensorflow:From C:\\Users\\nmart\\anaconda3\\lib\\site-packages\\tensorflow\\python\\training\\tracking\\tracking.py:111: Layer.updates (from tensorflow.python.keras.engine.base_layer) is deprecated and will be removed in a future version.\n",
      "Instructions for updating:\n",
      "This property should not be used in TensorFlow 2.0, as updates are applied automatically.\n",
      "INFO:tensorflow:Assets written to: models/dax_pred_model_9\\assets\n"
     ]
    }
   ],
   "source": [
    "import os.path\n",
    "if os.path.isfile('models/dax_pred_model_9')is False:\n",
    "    model.save('models/dax_pred_model_9')"
   ]
  }
 ],
 "metadata": {
  "kernelspec": {
   "display_name": "Python 3",
   "language": "python",
   "name": "python3"
  },
  "language_info": {
   "codemirror_mode": {
    "name": "ipython",
    "version": 3
   },
   "file_extension": ".py",
   "mimetype": "text/x-python",
   "name": "python",
   "nbconvert_exporter": "python",
   "pygments_lexer": "ipython3",
   "version": "3.8.3"
  }
 },
 "nbformat": 4,
 "nbformat_minor": 5
}
